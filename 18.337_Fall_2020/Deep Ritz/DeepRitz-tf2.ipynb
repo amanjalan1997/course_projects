{
 "cells": [
  {
   "cell_type": "code",
   "execution_count": 67,
   "metadata": {
    "ExecuteTime": {
     "end_time": "2021-01-26T22:21:46.248578Z",
     "start_time": "2021-01-26T22:21:46.245085Z"
    }
   },
   "outputs": [
    {
     "name": "stdout",
     "output_type": "stream",
     "text": [
      "2.3.1\n"
     ]
    }
   ],
   "source": [
    "import tensorflow as tf\n",
    "print(tf.__version__)\n",
    "import numpy as np\n",
    "from tensorflow import keras\n",
    "tf.keras.backend.set_floatx('float32')\n",
    "from tqdm import tqdm_notebook as tqdm"
   ]
  },
  {
   "cell_type": "markdown",
   "metadata": {},
   "source": [
    "### Define a sampling function "
   ]
  },
  {
   "cell_type": "code",
   "execution_count": 2,
   "metadata": {
    "ExecuteTime": {
     "end_time": "2021-01-26T22:03:17.687437Z",
     "start_time": "2021-01-26T22:03:17.684479Z"
    }
   },
   "outputs": [],
   "source": [
    "def sampling_function(n_interior):\n",
    "    inner_sample = tf.random.uniform(shape = (1000,2), minval = 0, maxval = 1, dtype = 'float32') \n",
    "    return inner_sample"
   ]
  },
  {
   "cell_type": "code",
   "execution_count": 3,
   "metadata": {
    "ExecuteTime": {
     "end_time": "2021-01-26T22:03:21.321928Z",
     "start_time": "2021-01-26T22:03:21.299349Z"
    }
   },
   "outputs": [],
   "source": [
    "s = sampling_function(100)"
   ]
  },
  {
   "cell_type": "code",
   "execution_count": 4,
   "metadata": {
    "ExecuteTime": {
     "end_time": "2021-01-26T22:03:21.851525Z",
     "start_time": "2021-01-26T22:03:21.842889Z"
    }
   },
   "outputs": [
    {
     "data": {
      "text/plain": [
       "array([[0.89163566, 0.8441485 ],\n",
       "       [0.11397707, 0.15773988],\n",
       "       [0.6136919 , 0.49608195],\n",
       "       ...,\n",
       "       [0.44599855, 0.23882818],\n",
       "       [0.05281591, 0.4475268 ],\n",
       "       [0.3675604 , 0.08517408]], dtype=float32)"
      ]
     },
     "execution_count": 4,
     "metadata": {},
     "output_type": "execute_result"
    }
   ],
   "source": [
    "s.numpy()"
   ]
  },
  {
   "cell_type": "markdown",
   "metadata": {},
   "source": [
    "### Define loss functions"
   ]
  },
  {
   "cell_type": "code",
   "execution_count": 79,
   "metadata": {
    "ExecuteTime": {
     "end_time": "2021-01-26T22:25:37.631742Z",
     "start_time": "2021-01-26T22:25:37.627119Z"
    }
   },
   "outputs": [],
   "source": [
    "def loss_function(n_interior):\n",
    "#     inner_sample = tf.Variable(initial_value = sampling_function(100))\n",
    "    with tf.GradientTape() as t1:\n",
    "        inner_sample = sampling_function(100)\n",
    "        t1.watch(inner_sample)\n",
    "        predictions = model(inner_sample)\n",
    "        t1.watch(predictions)\n",
    "        grad = t1.gradient(predictions, inner_sample)\n",
    "    grad_norm = tf.add(tf.reduce_sum(tf.math.square(grad[:, 0])), tf.reduce_sum(tf.math.square(grad[:, 1])))\n",
    "    loss = tf.add(0.5*grad_norm, tf.reduce_sum(predictions))\n",
    "    return loss"
   ]
  },
  {
   "cell_type": "markdown",
   "metadata": {},
   "source": [
    "### Define model architecture "
   ]
  },
  {
   "cell_type": "code",
   "execution_count": 80,
   "metadata": {
    "ExecuteTime": {
     "end_time": "2021-01-26T22:25:38.230056Z",
     "start_time": "2021-01-26T22:25:38.225312Z"
    }
   },
   "outputs": [],
   "source": [
    "class SkipBlock(keras.layers.Layer):\n",
    "    def __init__(self, units = 10):\n",
    "        super(SkipBlock, self).__init__()\n",
    "        self.units = units\n",
    "    def build(self, input_shape):\n",
    "        self.first_layer = keras.layers.Dense(10, activation = 'relu', use_bias = True)\n",
    "        self.second_layer = keras.layers.Dense(10, activation = 'relu', use_bias = True)\n",
    "    def call(self, x):\n",
    "        y1 = self.first_layer(x)\n",
    "        y2 = self.second_layer(y1)\n",
    "        return tf.add(y2, x)"
   ]
  },
  {
   "cell_type": "code",
   "execution_count": 81,
   "metadata": {
    "ExecuteTime": {
     "end_time": "2021-01-26T22:25:38.376695Z",
     "start_time": "2021-01-26T22:25:38.371401Z"
    }
   },
   "outputs": [],
   "source": [
    "class DeepRitz(keras.Model):\n",
    "    def __init__(self):\n",
    "        super(DeepRitz, self).__init__()\n",
    "        self.input_dense = keras.layers.Dense(10, use_bias = True)\n",
    "        self.out_dense = keras.layers.Dense(1, use_bias = True)\n",
    "        self.sb1 = SkipBlock(units = 10)\n",
    "        self.sb2 = SkipBlock(units = 10)\n",
    "        self.sb3 = SkipBlock(units = 10)\n",
    "    def call(self, x):\n",
    "        y1 = self.input_dense(x)\n",
    "        y2 = self.sb1(y1)\n",
    "        y3 = self.sb2(y2)\n",
    "        y4 = self.sb3(y3)\n",
    "        output = self.out_dense(y4)\n",
    "        return output"
   ]
  },
  {
   "cell_type": "markdown",
   "metadata": {},
   "source": [
    "### Train model "
   ]
  },
  {
   "cell_type": "code",
   "execution_count": 82,
   "metadata": {
    "ExecuteTime": {
     "end_time": "2021-01-26T22:25:38.923100Z",
     "start_time": "2021-01-26T22:25:38.913332Z"
    }
   },
   "outputs": [],
   "source": [
    "model = DeepRitz()\n",
    "opt = keras.optimizers.Adam(1e-3)\n",
    "n_interior = 1000"
   ]
  },
  {
   "cell_type": "code",
   "execution_count": 83,
   "metadata": {
    "ExecuteTime": {
     "end_time": "2021-01-26T22:25:39.162218Z",
     "start_time": "2021-01-26T22:25:39.089417Z"
    }
   },
   "outputs": [],
   "source": [
    "@tf.function  # Make it fast.\n",
    "def train_model(n_steps):\n",
    "    for i in tqdm(range(n_steps)):\n",
    "        with tf.GradientTape() as tape:\n",
    "            loss_val = loss_function(100)\n",
    "            tape.watch(loss_val)\n",
    "            gradients = tape.gradient(loss_val, model.trainable_weights)\n",
    "        opt.apply_gradients(zip(gradients, model.trainable_weights))\n",
    "        tf.print(\"Iteration:\", i, \", Loss:\", loss_val)"
   ]
  },
  {
   "cell_type": "markdown",
   "metadata": {},
   "source": [
    "### Test run "
   ]
  },
  {
   "cell_type": "code",
   "execution_count": 84,
   "metadata": {
    "ExecuteTime": {
     "end_time": "2021-01-26T22:25:43.194470Z",
     "start_time": "2021-01-26T22:25:40.122381Z"
    }
   },
   "outputs": [
    {
     "data": {
      "application/vnd.jupyter.widget-view+json": {
       "model_id": "78ece1977b354fea980b0baf81d0bb0c",
       "version_major": 2,
       "version_minor": 0
      },
      "text/plain": [
       "HBox(children=(FloatProgress(value=0.0, max=10.0), HTML(value='')))"
      ]
     },
     "metadata": {},
     "output_type": "display_data"
    },
    {
     "name": "stdout",
     "output_type": "stream",
     "text": [
      "\n"
     ]
    },
    {
     "data": {
      "application/vnd.jupyter.widget-view+json": {
       "model_id": "a810035eab544b3893959e0f1d936950",
       "version_major": 2,
       "version_minor": 0
      },
      "text/plain": [
       "HBox(children=(FloatProgress(value=0.0, max=10.0), HTML(value='')))"
      ]
     },
     "metadata": {},
     "output_type": "display_data"
    },
    {
     "name": "stdout",
     "output_type": "stream",
     "text": [
      "\n",
      "Iteration: 0 , Loss: 1263.32422\n",
      "Iteration: 1 , Loss: 1217.92065\n",
      "Iteration: 2 , Loss: 1162.50586\n",
      "Iteration: 3 , Loss: 1081.92773\n",
      "Iteration: 4 , Loss: 1045.79834\n",
      "Iteration: 5 , Loss: 989.848572\n",
      "Iteration: 6 , Loss: 933.498291\n",
      "Iteration: 7 , Loss: 870.670959\n",
      "Iteration: 8 , Loss: 828.505737\n",
      "Iteration: 9 , Loss: 771.922424\n"
     ]
    }
   ],
   "source": [
    "train_model(10)"
   ]
  },
  {
   "cell_type": "code",
   "execution_count": null,
   "metadata": {},
   "outputs": [],
   "source": []
  },
  {
   "cell_type": "code",
   "execution_count": null,
   "metadata": {},
   "outputs": [],
   "source": []
  },
  {
   "cell_type": "code",
   "execution_count": null,
   "metadata": {},
   "outputs": [],
   "source": []
  }
 ],
 "metadata": {
  "kernelspec": {
   "display_name": "Python 3",
   "language": "python",
   "name": "python3"
  },
  "language_info": {
   "codemirror_mode": {
    "name": "ipython",
    "version": 3
   },
   "file_extension": ".py",
   "mimetype": "text/x-python",
   "name": "python",
   "nbconvert_exporter": "python",
   "pygments_lexer": "ipython3",
   "version": "3.8.3"
  },
  "varInspector": {
   "cols": {
    "lenName": 16,
    "lenType": 16,
    "lenVar": 40
   },
   "kernels_config": {
    "python": {
     "delete_cmd_postfix": "",
     "delete_cmd_prefix": "del ",
     "library": "var_list.py",
     "varRefreshCmd": "print(var_dic_list())"
    },
    "r": {
     "delete_cmd_postfix": ") ",
     "delete_cmd_prefix": "rm(",
     "library": "var_list.r",
     "varRefreshCmd": "cat(var_dic_list()) "
    }
   },
   "types_to_exclude": [
    "module",
    "function",
    "builtin_function_or_method",
    "instance",
    "_Feature"
   ],
   "window_display": false
  }
 },
 "nbformat": 4,
 "nbformat_minor": 4
}
